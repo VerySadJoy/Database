{
 "cells": [
  {
   "cell_type": "markdown",
   "id": "3eba5455",
   "metadata": {},
   "source": [
    "### entire_search(CONNECTION: str, table_name: str) -> Union[list, None]"
   ]
  },
  {
   "cell_type": "code",
   "execution_count": 1,
   "id": "72ba9d64",
   "metadata": {},
   "outputs": [
    {
     "name": "stdout",
     "output_type": "stream",
     "text": [
      "(2017, 1, datetime.date(2017, 3, 1), datetime.date(2017, 6, 21))\n",
      "(2017, 2, datetime.date(2017, 9, 1), datetime.date(2017, 12, 22))\n",
      "(2018, 1, datetime.date(2018, 3, 1), datetime.date(2018, 6, 21))\n",
      "(2018, 2, datetime.date(2018, 9, 1), datetime.date(2018, 12, 24))\n",
      "(2019, 1, datetime.date(2019, 3, 1), datetime.date(2019, 6, 21))\n",
      "(2019, 2, datetime.date(2019, 9, 1), datetime.date(2019, 12, 22))\n",
      "(2020, 1, datetime.date(2020, 3, 1), datetime.date(2020, 6, 23))\n",
      "(2020, 2, datetime.date(2020, 9, 1), datetime.date(2020, 12, 22))\n",
      "(2021, 1, datetime.date(2021, 3, 1), datetime.date(2021, 6, 22))\n",
      "(2021, 2, datetime.date(2021, 9, 1), datetime.date(2021, 12, 22))\n",
      "(2022, 1, datetime.date(2022, 3, 1), datetime.date(2022, 6, 21))\n",
      "(2022, 2, datetime.date(2022, 9, 1), datetime.date(2022, 12, 22))\n"
     ]
    }
   ],
   "source": [
    "import psycopg\n",
    "from psycopg import sql\n",
    "# change to your python code file name\n",
    "from project2_2019147547 import *\n",
    "HOST = 'localhost'\n",
    "DBNAME = 'mydbase'\n",
    "USER = 'postgres'\n",
    "PASSWORD = 'Redvelvet123!'\n",
    "CONNECTION = f\"host={HOST} dbname={DBNAME} user={USER} password={PASSWORD}\"\n",
    "# search all data\n",
    "table_name = 'semester'\n",
    "entire_search(CONNECTION=CONNECTION, table_name=table_name)"
   ]
  },
  {
   "cell_type": "markdown",
   "id": "8a33b8d6",
   "metadata": {},
   "source": [
    "### search_by_studentID(CONNECTION: str, student_id: str) -> Union[list, None]"
   ]
  },
  {
   "cell_type": "code",
   "execution_count": 2,
   "id": "cfe7e991",
   "metadata": {},
   "outputs": [
    {
     "name": "stdout",
     "output_type": "stream",
     "text": [
      "[('An Yujin', '2017111111', 2017, 0, '컴퓨터과학', '공과대학', True)]\n",
      "('An Yujin', '2017111111', 2017, 0, '컴퓨터과학', '공과대학', True)\n"
     ]
    }
   ],
   "source": [
    "import psycopg\n",
    "from psycopg import sql\n",
    "# change to your python code file name\n",
    "from project2_2019147547 import *\n",
    "HOST = 'localhost'\n",
    "DBNAME = 'mydbase'\n",
    "USER = 'postgres'\n",
    "PASSWORD = 'Redvelvet123!'\n",
    "CONNECTION = f\"host={HOST} dbname={DBNAME} user={USER} password={PASSWORD}\"\n",
    "# search all data\n",
    "student_id = '2017111111'\n",
    "search_by_studentID(CONNECTION=CONNECTION, student_id=student_id)"
   ]
  },
  {
   "cell_type": "markdown",
   "id": "bd374cbd",
   "metadata": {},
   "source": [
    "### search_by_studentname(CONNECTION: str, name: str) -> Union[list, None]"
   ]
  },
  {
   "cell_type": "code",
   "execution_count": null,
   "id": "e4598eff",
   "metadata": {},
   "outputs": [],
   "source": [
    "# search by student name\n",
    "student_name = 'An Yujin'\n",
    "search_by_studentname(CONNECTION, student_name)"
   ]
  },
  {
   "cell_type": "code",
   "execution_count": null,
   "id": "5aec8e43",
   "metadata": {},
   "outputs": [],
   "source": [
    "# search by student name with escape charator\n",
    "student_name = 'Kim%'\n",
    "search_by_studentname(CONNECTION, student_name)"
   ]
  },
  {
   "cell_type": "code",
   "execution_count": null,
   "id": "a85b2626",
   "metadata": {},
   "outputs": [],
   "source": [
    "student_name = '%young'\n",
    "search_by_studentname(CONNECTION, student_name)"
   ]
  },
  {
   "cell_type": "code",
   "execution_count": null,
   "id": "22e23ff8",
   "metadata": {},
   "outputs": [],
   "source": [
    "student_name = '%Ga%'\n",
    "search_by_studentname(CONNECTION, student_name)"
   ]
  },
  {
   "cell_type": "markdown",
   "id": "dc6a0110",
   "metadata": {},
   "source": [
    "### registration_history(CONNECTION: str, student_id: str) -> Union[list, None]"
   ]
  },
  {
   "cell_type": "code",
   "execution_count": null,
   "id": "39efe5b8",
   "metadata": {},
   "outputs": [],
   "source": [
    "# search registration history by student id\n",
    "student_id = '2017111111'\n",
    "registration_history(CONNECTION=CONNECTION, student_id=student_id)"
   ]
  },
  {
   "cell_type": "markdown",
   "id": "6756e417",
   "metadata": {},
   "source": [
    "### registration(CONNECTION: str, course_id: int, student_id: str) -> Union[list, None]"
   ]
  },
  {
   "cell_type": "code",
   "execution_count": null,
   "id": "947e3a49",
   "metadata": {},
   "outputs": [],
   "source": [
    "# registration course\n",
    "course_id = 12\n",
    "student_id = '2022111111'\n",
    "registration(CONNECTION=CONNECTION, course_id=course_id, student_id=student_id)"
   ]
  },
  {
   "cell_type": "markdown",
   "id": "dcaf32b5",
   "metadata": {},
   "source": [
    "### withdrawal_registration(CONNECTION: str, course_id: int, student_id: str) -> Union[list, None]"
   ]
  },
  {
   "cell_type": "code",
   "execution_count": null,
   "id": "1be367a3",
   "metadata": {},
   "outputs": [],
   "source": [
    "# withdrawal course\n",
    "course_id = 12\n",
    "student_id = '2022111111'\n",
    "withdrawal_registration(CONNECTION=CONNECTION, course_id=course_id, student_id=student_id)"
   ]
  },
  {
   "cell_type": "markdown",
   "id": "55dbef7a",
   "metadata": {},
   "source": [
    "### modify_lectureroom(CONNECTION: str, course_id: int, buildno: str, roomno: str) -> Union[list, None]"
   ]
  },
  {
   "cell_type": "code",
   "execution_count": null,
   "id": "fe539d50",
   "metadata": {},
   "outputs": [],
   "source": [
    "# modify lecture room\n",
    "course_id = 12\n",
    "buildno = '공D'\n",
    "roomno = '408'\n",
    "\n",
    "modify_lectureroom(CONNECTION=CONNECTION, course_id=course_id, buildno=buildno, roomno=roomno)"
   ]
  }
 ],
 "metadata": {
  "kernelspec": {
   "display_name": "Python 3 (ipykernel)",
   "language": "python",
   "name": "python3"
  },
  "language_info": {
   "codemirror_mode": {
    "name": "ipython",
    "version": 3
   },
   "file_extension": ".py",
   "mimetype": "text/x-python",
   "name": "python",
   "nbconvert_exporter": "python",
   "pygments_lexer": "ipython3",
   "version": "3.9.13"
  }
 },
 "nbformat": 4,
 "nbformat_minor": 5
}
